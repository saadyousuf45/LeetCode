{
 "cells": [
  {
   "cell_type": "code",
   "execution_count": null,
   "id": "cb85c9a1",
   "metadata": {},
   "outputs": [],
   "source": [
    "88. Merge Sorted Array\n",
    "Easy\n",
    "Topics\n",
    "Companies\n",
    "Hint\n",
    "You are given two integer arrays nums1 and nums2, sorted in non-decreasing order, and two integers m and n, representing the number of elements in nums1 and nums2 respectively.\n",
    "\n",
    "Merge nums1 and nums2 into a single array sorted in non-decreasing order.\n",
    "\n",
    "The final sorted array should not be returned by the function, but instead be stored inside the array nums1. To accommodate this, nums1 has a length of m + n, where the first m elements denote the elements that should be merged, and the last n elements are set to 0 and should be ignored. nums2 has a length of n.\n",
    "\n",
    " \n",
    "\n",
    "Example 1:\n",
    "\n",
    "Input: nums1 = [1,2,3,0,0,0], m = 3, nums2 = [2,5,6], n = 3\n",
    "Output: [1,2,2,3,5,6]\n",
    "Explanation: The arrays we are merging are [1,2,3] and [2,5,6].\n",
    "The result of the merge is [1,2,2,3,5,6] with the underlined elements coming from nums1.\n",
    "Example 2:\n",
    "\n",
    "Input: nums1 = [1], m = 1, nums2 = [], n = 0\n",
    "Output: [1]\n",
    "Explanation: The arrays we are merging are [1] and [].\n",
    "The result of the merge is [1].\n",
    "Example 3:\n",
    "\n",
    "Input: nums1 = [0], m = 0, nums2 = [1], n = 1\n",
    "Output: [1]\n",
    "Explanation: The arrays we are merging are [] and [1].\n",
    "The result of the merge is [1].\n",
    "Note that because m = 0, there are no elements in nums1. The 0 is only there to ensure the merge result can fit in nums1."
   ]
  },
  {
   "cell_type": "code",
   "execution_count": 17,
   "id": "3ac3907d",
   "metadata": {},
   "outputs": [
    {
     "name": "stdout",
     "output_type": "stream",
     "text": [
      "value of i 3\n",
      "value of j 3\n",
      "The merged array is: [1, 2, 2, 3, 5, 6]\n",
      "The merged array is: [1, 2, 2, 3, 5, 6, 7, 10, 11]\n"
     ]
    }
   ],
   "source": [
    "nums1 = [1,2,3,10,7,11] \n",
    "m = 3\n",
    "nums2 = [2,5,6]\n",
    "n = 3\n",
    "# Initiize length variable to go through the index values \n",
    "a = len(nums1)\n",
    "b = len(nums2)\n",
    "d = a + b \n",
    "\n",
    "c   = []\n",
    "\n",
    "i = 0\n",
    "j = 0\n",
    "\n",
    "# set variable value to the array indices into variable  \n",
    "while i < len(nums1) and j < len(nums2):\n",
    "    if nums1[i] != 0:\n",
    "        if nums1[i] < nums2[j]:\n",
    "            c.append(nums1[i])\n",
    "            i = i + 1 \n",
    "        else :\n",
    "            c.append(nums2[j])\n",
    "            j = j + 1\n",
    "    else:\n",
    "        c.append(nums2[j])\n",
    "        j = j + 1\n",
    "\n",
    "print('value of i',i)\n",
    "print('value of j',j)\n",
    "\n",
    "print ('The merged array is:',c)\n",
    "\n",
    "\n",
    "\n",
    "if j < len(nums2) and nums2[j] != 0:\n",
    "    remaining = sorted(nums2[j:])  # Sort remaining elements from nums2\n",
    "    c.extend(remaining)\n",
    "elif nums1[i] != 0:\n",
    "    remaining = sorted(nums1[i:])  # Sort remaining elements from nums1\n",
    "    c.extend(remaining)\n",
    "\n",
    "\n",
    "print ('The merged array is:',c)\n"
   ]
  }
 ],
 "metadata": {
  "kernelspec": {
   "display_name": "Python 3",
   "language": "python",
   "name": "python3"
  },
  "language_info": {
   "codemirror_mode": {
    "name": "ipython",
    "version": 3
   },
   "file_extension": ".py",
   "mimetype": "text/x-python",
   "name": "python",
   "nbconvert_exporter": "python",
   "pygments_lexer": "ipython3",
   "version": "3.12.9"
  }
 },
 "nbformat": 4,
 "nbformat_minor": 5
}
