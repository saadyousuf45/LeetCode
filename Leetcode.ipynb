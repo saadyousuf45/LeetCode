{
 "cells": [
  {
   "cell_type": "markdown",
   "id": "cb85c9a1",
   "metadata": {
    "vscode": {
     "languageId": "raw"
    }
   },
   "source": [
    "# 88. Merge Sorted Array\n",
    "Easy\n",
    "Topics\n",
    "Companies\n",
    "Hint\n",
    "You are given two integer arrays nums1 and nums2, sorted in non-decreasing order, and two integers m and n, representing the number of elements in nums1 and nums2 respectively.\n",
    "\n",
    "Merge nums1 and nums2 into a single array sorted in non-decreasing order.\n",
    "\n",
    "The final sorted array should not be returned by the function, but instead be stored inside the array nums1. To accommodate this, nums1 has a length of m + n, where the first m elements denote the elements that should be merged, and the last n elements are set to 0 and should be ignored. nums2 has a length of n.\n",
    "\n",
    " \n",
    "\n",
    "Example 1:\n",
    "\n",
    "Input: nums1 = [1,2,3,0,0,0], m = 3, nums2 = [2,5,6], n = 3\n",
    "Output: [1,2,2,3,5,6]\n",
    "Explanation: The arrays we are merging are [1,2,3] and [2,5,6].\n",
    "The result of the merge is [1,2,2,3,5,6] with the underlined elements coming from nums1.\n",
    "Example 2:\n",
    "\n",
    "Input: nums1 = [1], m = 1, nums2 = [], n = 0\n",
    "Output: [1]\n",
    "Explanation: The arrays we are merging are [1] and [].\n",
    "The result of the merge is [1].\n",
    "Example 3:\n",
    "\n",
    "Input: nums1 = [0], m = 0, nums2 = [1], n = 1\n",
    "Output: [1]\n",
    "Explanation: The arrays we are merging are [] and [1].\n",
    "The result of the merge is [1].\n",
    "Note that because m = 0, there are no elements in nums1. The 0 is only there to ensure the merge result can fit in nums1."
   ]
  },
  {
   "cell_type": "code",
   "execution_count": null,
   "id": "3ac3907d",
   "metadata": {},
   "outputs": [
    {
     "name": "stdout",
     "output_type": "stream",
     "text": [
      "value of i 3\n",
      "value of j 3\n",
      "The merged array is: [1, 2, 2, 3, 5, 6]\n",
      "The merged array is: [1, 2, 2, 3, 5, 6, 7, 10, 11]\n"
     ]
    }
   ],
   "source": [
    "# The code below is a simple implementation of the merge function\n",
    "# that merges two sorted arrays into one sorted array.\n",
    "# The code uses a while loop to iterate through both arrays\n",
    "# and compares the elements to determine their order.\n",
    "\n",
    "# It is not working perfectly\n",
    "# and needs to be fixed.\n",
    "\n",
    "nums1 = [1,2,3,10,7,11] \n",
    "m = 3\n",
    "nums2 = [2,5,6]\n",
    "n = 3\n",
    "# Initiize length variable to go through the index values \n",
    "a = len(nums1)\n",
    "b = len(nums2)\n",
    "d = a + b \n",
    "\n",
    "c   = []\n",
    "\n",
    "i = 0\n",
    "j = 0\n",
    "\n",
    "# set variable value to the array indices into variable  \n",
    "while i < len(nums1) and j < len(nums2):\n",
    "    if nums1[i] != 0:\n",
    "        if nums1[i] < nums2[j]:\n",
    "            c.append(nums1[i])\n",
    "            i = i + 1 \n",
    "        else :\n",
    "            c.append(nums2[j])\n",
    "            j = j + 1\n",
    "    else:\n",
    "        c.append(nums2[j])\n",
    "        j = j + 1\n",
    "\n",
    "print('value of i',i)\n",
    "print('value of j',j)\n",
    "\n",
    "print ('The merged array is:',c)\n",
    "\n",
    "\n",
    "\n",
    "if j < len(nums2) and nums2[j] != 0:\n",
    "    remaining = sorted(nums2[j:])  # Sort remaining elements from nums2\n",
    "    c.extend(remaining)\n",
    "elif nums1[i] != 0:\n",
    "    remaining = sorted(nums1[i:])  # Sort remaining elements from nums1\n",
    "    c.extend(remaining)\n",
    "\n",
    "\n",
    "print ('The merged array is:',c)\n"
   ]
  },
  {
   "cell_type": "markdown",
   "id": "4c2a3f54",
   "metadata": {},
   "source": [
    "# 1. Two Sum\n",
    "\n",
    "Given an array of integers nums and an integer target, return indices of the two numbers such that they add up to target.\n",
    "\n",
    "You may assume that each input would have exactly one solution, and you may not use the same element twice.\n",
    "\n",
    "You can return the answer in any order.\n",
    "\n",
    " \n",
    "\n",
    "Example 1:\n",
    "\n",
    "Input: nums = [2,7,11,15], target = 9\n",
    "Output: [0,1]\n",
    "Explanation: Because nums[0] + nums[1] == 9, we return [0, 1].\n",
    "Example 2:\n",
    "\n",
    "Input: nums = [3,2,4], target = 6\n",
    "Output: [1,2]\n",
    "Example 3:\n",
    "\n",
    "Input: nums = [3,3], target = 6\n",
    "Output: [0,1]\n"
   ]
  },
  {
   "cell_type": "code",
   "execution_count": 13,
   "id": "c0c02113",
   "metadata": {},
   "outputs": [
    {
     "name": "stdout",
     "output_type": "stream",
     "text": [
      "The two numbers that add up to the target are: [1, 2]\n"
     ]
    }
   ],
   "source": [
    "\n",
    "# Input array \n",
    "nums = [2,7,11,15]\n",
    "ret = [0,0]\n",
    "target = 18\n",
    "\n",
    "i = 0\n",
    "# Loop through the array to find two numbers that add up to the target\n",
    "while i<=len(nums):\n",
    " \n",
    " if nums[i] + nums[i+1] == target :\n",
    "    ret[0] = i\n",
    "    ret[1] = i + 1\n",
    "    break\n",
    "   \n",
    " else :\n",
    "    i = i + 1\n",
    "# Print the result\n",
    " \n",
    "print('The two numbers that add up to the target are:',ret)\n",
    "\n",
    "    \n",
    "    \n",
    "\n"
   ]
  },
  {
   "cell_type": "code",
   "execution_count": null,
   "id": "9b07c1ce",
   "metadata": {},
   "outputs": [
    {
     "ename": "IndexError",
     "evalue": "list index out of range",
     "output_type": "error",
     "traceback": [
      "\u001b[31m---------------------------------------------------------------------------\u001b[39m",
      "\u001b[31mIndexError\u001b[39m                                Traceback (most recent call last)",
      "\u001b[36mCell\u001b[39m\u001b[36m \u001b[39m\u001b[32mIn[19]\u001b[39m\u001b[32m, line 26\u001b[39m\n\u001b[32m     24\u001b[39m nums = [\u001b[32m3\u001b[39m,\u001b[32m2\u001b[39m,\u001b[32m3\u001b[39m]\n\u001b[32m     25\u001b[39m target = \u001b[32m6\u001b[39m\n\u001b[32m---> \u001b[39m\u001b[32m26\u001b[39m result = \u001b[43msolution\u001b[49m\u001b[43m.\u001b[49m\u001b[43mtwoSum\u001b[49m\u001b[43m(\u001b[49m\u001b[43mnums\u001b[49m\u001b[43m,\u001b[49m\u001b[43m \u001b[49m\u001b[43mtarget\u001b[49m\u001b[43m)\u001b[49m\n\u001b[32m     27\u001b[39m \u001b[38;5;28mprint\u001b[39m(\u001b[33m'\u001b[39m\u001b[33mThe two numbers that add up to the target are:\u001b[39m\u001b[33m'\u001b[39m, result) \n",
      "\u001b[36mCell\u001b[39m\u001b[36m \u001b[39m\u001b[32mIn[19]\u001b[39m\u001b[32m, line 9\u001b[39m, in \u001b[36mSolution.twoSum\u001b[39m\u001b[34m(self, nums, target)\u001b[39m\n\u001b[32m      7\u001b[39m \u001b[38;5;66;03m# Loop through the array to find two numbers that add up to the target\u001b[39;00m\n\u001b[32m      8\u001b[39m \u001b[38;5;28;01mwhile\u001b[39;00m i<=\u001b[38;5;28mlen\u001b[39m(nums):\n\u001b[32m----> \u001b[39m\u001b[32m9\u001b[39m     \u001b[38;5;28;01mif\u001b[39;00m nums[i] + \u001b[43mnums\u001b[49m\u001b[43m[\u001b[49m\u001b[43mi\u001b[49m\u001b[43m+\u001b[49m\u001b[32;43m1\u001b[39;49m\u001b[43m]\u001b[49m == target:\n\u001b[32m     10\u001b[39m         ret[\u001b[32m0\u001b[39m] = i\n\u001b[32m     11\u001b[39m         ret[\u001b[32m1\u001b[39m] = i + \u001b[32m1\u001b[39m\n",
      "\u001b[31mIndexError\u001b[39m: list index out of range"
     ]
    }
   ],
   "source": [
    "class Solution(object):\n",
    "    def twoSum(self, nums, target):\n",
    "        # Initialize dictionary to store complement values\n",
    "        seen = {}\n",
    "        #nums = []\n",
    "        ret = [0,0]\n",
    "# Loop through array with proper indexing\n",
    "        for i, num in enumerate(nums):\n",
    "            # Calculate complement needed\n",
    "            complement = target - num\n",
    "            \n",
    "            # If complement exists in dictionary, we found our pair\n",
    "            if complement in seen:\n",
    "                ret[0] = seen[complement]\n",
    "                ret[1] = i\n",
    "                return ret\n",
    "            \n",
    "            # Store current number and its index\n",
    "            seen[num] = i\n",
    "        \n",
    "        return ret  # Return [0,0] if no solution found\n",
    "\n",
    "        # Print the result\n",
    "        #print('The two numbers that add up to the target are:',ret)\n",
    "        # Return the result \n",
    "        \n"
   ]
  }
 ],
 "metadata": {
  "kernelspec": {
   "display_name": "Python 3",
   "language": "python",
   "name": "python3"
  },
  "language_info": {
   "codemirror_mode": {
    "name": "ipython",
    "version": 3
   },
   "file_extension": ".py",
   "mimetype": "text/x-python",
   "name": "python",
   "nbconvert_exporter": "python",
   "pygments_lexer": "ipython3",
   "version": "3.12.9"
  }
 },
 "nbformat": 4,
 "nbformat_minor": 5
}
